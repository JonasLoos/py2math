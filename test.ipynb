{
 "cells": [
  {
   "cell_type": "code",
   "execution_count": 1,
   "metadata": {},
   "outputs": [
    {
     "name": "stdout",
     "output_type": "stream",
     "text": [
      "def f(x): return x + 1, 2, 3\n",
      "\n",
      "file_input\n",
      "  python__funcdef\n",
      "    f\n",
      "    python__parameters\n",
      "      x\n",
      "      None\n",
      "      None\n",
      "    None\n",
      "    python__suite\n",
      "      python__return_stmt\n",
      "        python__testlist_tuple\n",
      "          python__arith_expr\n",
      "            python__var\tx\n",
      "            +\n",
      "            python__number\t1\n",
      "          python__number\t2\n",
      "          python__number\t3\n",
      "\n",
      "$$ f(x) = (x+1, 2, 3) $$\n"
     ]
    },
    {
     "data": {
      "text/latex": [
       "$$ f(x) = (x+1, 2, 3) $$"
      ],
      "text/plain": [
       "<py2math.Math at 0x7fa4e874cee0>"
      ]
     },
     "execution_count": 1,
     "metadata": {},
     "output_type": "execute_result"
    }
   ],
   "source": [
    "import py2math\n",
    "\n",
    "def f(x): return x + 1, 2, 3\n",
    "\n",
    "py2math(f)"
   ]
  }
 ],
 "metadata": {
  "interpreter": {
   "hash": "31f2aee4e71d21fbe5cf8b01ff0e069b9275f58929596ceb00d14d90e3e16cd6"
  },
  "kernelspec": {
   "display_name": "Python 3.8.10 64-bit",
   "language": "python",
   "name": "python3"
  },
  "language_info": {
   "codemirror_mode": {
    "name": "ipython",
    "version": 3
   },
   "file_extension": ".py",
   "mimetype": "text/x-python",
   "name": "python",
   "nbconvert_exporter": "python",
   "pygments_lexer": "ipython3",
   "version": "3.8.10"
  },
  "orig_nbformat": 4
 },
 "nbformat": 4,
 "nbformat_minor": 2
}
