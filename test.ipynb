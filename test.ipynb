{
 "cells": [
  {
   "cell_type": "code",
   "execution_count": 12,
   "metadata": {},
   "outputs": [
    {
     "ename": "TypeError",
     "evalue": "module() missing required argument 'name' (pos 1)",
     "output_type": "error",
     "traceback": [
      "\u001b[0;31m---------------------------------------------------------------------------\u001b[0m",
      "\u001b[0;31mTypeError\u001b[0m                                 Traceback (most recent call last)",
      "\u001b[1;32m/home/jonas/code/py2math/test.ipynb Cell 1'\u001b[0m in \u001b[0;36m<module>\u001b[0;34m\u001b[0m\n\u001b[1;32m      <a href='vscode-notebook-cell:/home/jonas/code/py2math/test.ipynb#ch0000000?line=2'>3</a>\u001b[0m \u001b[39mdef\u001b[39;00m \u001b[39mf\u001b[39m(x): \u001b[39mreturn\u001b[39;00m x \u001b[39m+\u001b[39m \u001b[39m1\u001b[39m, \u001b[39m2\u001b[39m, \u001b[39m3\u001b[39m\n\u001b[1;32m      <a href='vscode-notebook-cell:/home/jonas/code/py2math/test.ipynb#ch0000000?line=4'>5</a>\u001b[0m g \u001b[39m=\u001b[39m \u001b[39mlambda\u001b[39;00m x: \u001b[39m42\u001b[39m \u001b[39m*\u001b[39m (x \u001b[39m+\u001b[39m \u001b[39m2\u001b[39m) \u001b[39m*\u001b[39m \u001b[39m2\u001b[39m\n\u001b[0;32m----> <a href='vscode-notebook-cell:/home/jonas/code/py2math/test.ipynb#ch0000000?line=6'>7</a>\u001b[0m py2math\u001b[39m.\u001b[39;49m\u001b[39m__class__\u001b[39;49m()(f(\u001b[39m2\u001b[39m))\n",
      "\u001b[0;31mTypeError\u001b[0m: module() missing required argument 'name' (pos 1)"
     ]
    }
   ],
   "source": [
    "import py2math\n",
    "\n",
    "def f(x): return x + 1, 2, 3\n",
    "\n",
    "g = lambda x: 42 * (x + 2) * 2\n",
    "\n",
    "py2math.(f(2))"
   ]
  }
 ],
 "metadata": {
  "interpreter": {
   "hash": "31f2aee4e71d21fbe5cf8b01ff0e069b9275f58929596ceb00d14d90e3e16cd6"
  },
  "kernelspec": {
   "display_name": "Python 3.8.10 64-bit",
   "language": "python",
   "name": "python3"
  },
  "language_info": {
   "codemirror_mode": {
    "name": "ipython",
    "version": 3
   },
   "file_extension": ".py",
   "mimetype": "text/x-python",
   "name": "python",
   "nbconvert_exporter": "python",
   "pygments_lexer": "ipython3",
   "version": "3.8.10"
  },
  "orig_nbformat": 4
 },
 "nbformat": 4,
 "nbformat_minor": 2
}
