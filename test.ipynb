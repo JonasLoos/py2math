{
 "cells": [
  {
   "cell_type": "code",
   "execution_count": 2,
   "metadata": {},
   "outputs": [
    {
     "name": "stdout",
     "output_type": "stream",
     "text": [
      "g = lambda x: 42 * x + 2 * 2\n",
      "\n",
      "file_input\n",
      "  python__assign_stmt\n",
      "    python__assign\n",
      "      python__var\tg\n",
      "      python__lambdef\n",
      "        python__lambda_params\n",
      "          x\n",
      "          None\n",
      "        python__arith_expr\n",
      "          python__term\n",
      "            python__number\t42\n",
      "            *\n",
      "            python__var\tx\n",
      "          +\n",
      "          python__term\n",
      "            python__number\t2\n",
      "            *\n",
      "            python__number\t2\n",
      "\n",
      "$$ 42*x+2*2 $$\n"
     ]
    },
    {
     "data": {
      "text/latex": [
       "$$ 42*x+2*2 $$"
      ],
      "text/plain": [
       "<py2math.Math at 0x7fcf9c6e7730>"
      ]
     },
     "execution_count": 2,
     "metadata": {},
     "output_type": "execute_result"
    }
   ],
   "source": [
    "import py2math\n",
    "\n",
    "def f(x): return x + 1, 2, 3\n",
    "\n",
    "g = lambda x: 42 * (x + 2) * 2\n",
    "\n",
    "py2math(g)"
   ]
  }
 ],
 "metadata": {
  "interpreter": {
   "hash": "31f2aee4e71d21fbe5cf8b01ff0e069b9275f58929596ceb00d14d90e3e16cd6"
  },
  "kernelspec": {
   "display_name": "Python 3.8.10 64-bit",
   "language": "python",
   "name": "python3"
  },
  "language_info": {
   "codemirror_mode": {
    "name": "ipython",
    "version": 3
   },
   "file_extension": ".py",
   "mimetype": "text/x-python",
   "name": "python",
   "nbconvert_exporter": "python",
   "pygments_lexer": "ipython3",
   "version": "3.8.10"
  },
  "orig_nbformat": 4
 },
 "nbformat": 4,
 "nbformat_minor": 2
}
